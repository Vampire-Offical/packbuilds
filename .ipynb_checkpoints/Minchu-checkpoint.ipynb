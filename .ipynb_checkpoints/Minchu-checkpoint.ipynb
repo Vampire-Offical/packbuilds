{
 "cells": [
  {
   "cell_type": "markdown",
   "metadata": {
    "colab_type": "text",
    "id": "view-in-github"
   },
   "source": [
    "<a href=\"https://colab.research.google.com/github/RajiRai/Voice-Assistant/blob/main/Minchu.ipynb\" target=\"_parent\"><img src=\"https://colab.research.google.com/assets/colab-badge.svg\" alt=\"Open In Colab\"/></a>"
   ]
  },
  {
   "cell_type": "code",
   "execution_count": 1,
   "metadata": {
    "id": "q3LOOCXP6eiG"
   },
   "outputs": [],
   "source": [
    "# pip install SpeechRecognition\n",
    "# pip install wikipedia\n",
    "# pip install gTTS\n",
    "# pip install ecapture\n",
    "# pip install ipython\n",
    "# pip install pyinstaller\n",
    "# pip install selenium\n",
    "# pip install playsound"
   ]
  },
  {
   "cell_type": "code",
   "execution_count": 6,
   "metadata": {
    "id": "_8dPoK6NFTMY"
   },
   "outputs": [],
   "source": [
    "import speech_recognition as sr\n",
    "import datetime\n",
    "import wikipedia\n",
    "import webbrowser\n",
    "import time\n",
    "import requests\n",
    "import pyttsx3\n",
    "import subprocess #process various system commands like to log off or to restart your system\n",
    "#from ecapture import ecapture as ec #for capturing photos \n",
    "import playsound # to play saved mp3 file \n",
    "from gtts import gTTS # google text to speech \n",
    "import os # to save/open files \n",
    "import wolframalpha # to calculate strings into formula \n",
    "from selenium import webdriver # to control browser operations "
   ]
  },
  {
   "cell_type": "code",
   "execution_count": 7,
   "metadata": {
    "id": "6QzT_P1l6eiJ"
   },
   "outputs": [],
   "source": [
    "def talk():\n",
    "    input=sr.Recognizer()\n",
    "    with sr.Microphone() as source:\n",
    "        audio=input.listen(source)\n",
    "        data=\"\"\n",
    "        try:\n",
    "            data=input.recognize_google(audio)\n",
    "            print(\"Your question is, \" + data)\n",
    "            \n",
    "        except sr.UnknownValueError:\n",
    "            print(\"Sorry I did not hear your question, Please repeat again.\")\n",
    "        return data     \n"
   ]
  },
  {
   "cell_type": "code",
   "execution_count": 13,
   "metadata": {
    "id": "AhqfZjOj6eiM"
   },
   "outputs": [],
   "source": [
    "def respond(output):\n",
    "    num=0\n",
    "    print(output)\n",
    "    num += 1\n",
    "    response=gTTS(text=output, lang='en')\n",
    "    file = str(num)+\".mp3\"\n",
    "    response.save(file)\n",
    "    \n",
    "    playsound.playsound(file, True)  \n",
    "    os.remove(file)"
   ]
  },
  {
   "cell_type": "code",
   "execution_count": 14,
   "metadata": {
    "id": "5cdkDikC6eiR"
   },
   "outputs": [
    {
     "name": "stdout",
     "output_type": "stream",
     "text": [
      "Hi, I am Vampire personal Assistant\n",
      "How can I help you?\n",
      "Your question is, Wikipedia\n",
      "Searching Wikipedia\n"
     ]
    },
    {
     "ename": "WikipediaException",
     "evalue": "An unknown error occured: \"The \"srsearch\" parameter must be set.\". Please report it on GitHub!",
     "output_type": "error",
     "traceback": [
      "\u001b[0;31m---------------------------------------------------------------------------\u001b[0m",
      "\u001b[0;31mWikipediaException\u001b[0m                        Traceback (most recent call last)",
      "Input \u001b[0;32mIn [14]\u001b[0m, in \u001b[0;36m<cell line: 1>\u001b[0;34m()\u001b[0m\n\u001b[1;32m     17\u001b[0m respond(\u001b[38;5;124m'\u001b[39m\u001b[38;5;124mSearching Wikipedia\u001b[39m\u001b[38;5;124m'\u001b[39m)\n\u001b[1;32m     18\u001b[0m text \u001b[38;5;241m=\u001b[39mtext\u001b[38;5;241m.\u001b[39mreplace(\u001b[38;5;124m\"\u001b[39m\u001b[38;5;124mwikipedia\u001b[39m\u001b[38;5;124m\"\u001b[39m, \u001b[38;5;124m\"\u001b[39m\u001b[38;5;124m\"\u001b[39m)\n\u001b[0;32m---> 19\u001b[0m results \u001b[38;5;241m=\u001b[39m \u001b[43mwikipedia\u001b[49m\u001b[38;5;241;43m.\u001b[39;49m\u001b[43msummary\u001b[49m\u001b[43m(\u001b[49m\u001b[43mtext\u001b[49m\u001b[43m,\u001b[49m\u001b[43m \u001b[49m\u001b[43msentences\u001b[49m\u001b[38;5;241;43m=\u001b[39;49m\u001b[38;5;241;43m3\u001b[39;49m\u001b[43m)\u001b[49m\n\u001b[1;32m     20\u001b[0m respond(\u001b[38;5;124m\"\u001b[39m\u001b[38;5;124mAccording to Wikipedia\u001b[39m\u001b[38;5;124m\"\u001b[39m)\n\u001b[1;32m     21\u001b[0m \u001b[38;5;28mprint\u001b[39m(results)\n",
      "File \u001b[0;32m~/.local/lib/python3.10/site-packages/wikipedia/util.py:28\u001b[0m, in \u001b[0;36mcache.__call__\u001b[0;34m(self, *args, **kwargs)\u001b[0m\n\u001b[1;32m     26\u001b[0m   ret \u001b[38;5;241m=\u001b[39m \u001b[38;5;28mself\u001b[39m\u001b[38;5;241m.\u001b[39m_cache[key]\n\u001b[1;32m     27\u001b[0m \u001b[38;5;28;01melse\u001b[39;00m:\n\u001b[0;32m---> 28\u001b[0m   ret \u001b[38;5;241m=\u001b[39m \u001b[38;5;28mself\u001b[39m\u001b[38;5;241m.\u001b[39m_cache[key] \u001b[38;5;241m=\u001b[39m \u001b[38;5;28;43mself\u001b[39;49m\u001b[38;5;241;43m.\u001b[39;49m\u001b[43mfn\u001b[49m\u001b[43m(\u001b[49m\u001b[38;5;241;43m*\u001b[39;49m\u001b[43margs\u001b[49m\u001b[43m,\u001b[49m\u001b[43m \u001b[49m\u001b[38;5;241;43m*\u001b[39;49m\u001b[38;5;241;43m*\u001b[39;49m\u001b[43mkwargs\u001b[49m\u001b[43m)\u001b[49m\n\u001b[1;32m     30\u001b[0m \u001b[38;5;28;01mreturn\u001b[39;00m ret\n",
      "File \u001b[0;32m~/.local/lib/python3.10/site-packages/wikipedia/wikipedia.py:231\u001b[0m, in \u001b[0;36msummary\u001b[0;34m(title, sentences, chars, auto_suggest, redirect)\u001b[0m\n\u001b[1;32m    216\u001b[0m \u001b[38;5;124;03m'''\u001b[39;00m\n\u001b[1;32m    217\u001b[0m \u001b[38;5;124;03mPlain text summary of the page.\u001b[39;00m\n\u001b[1;32m    218\u001b[0m \n\u001b[0;32m   (...)\u001b[0m\n\u001b[1;32m    226\u001b[0m \u001b[38;5;124;03m* redirect - allow redirection without raising RedirectError\u001b[39;00m\n\u001b[1;32m    227\u001b[0m \u001b[38;5;124;03m'''\u001b[39;00m\n\u001b[1;32m    229\u001b[0m \u001b[38;5;66;03m# use auto_suggest and redirect to get the correct article\u001b[39;00m\n\u001b[1;32m    230\u001b[0m \u001b[38;5;66;03m# also, use page's error checking to raise DisambiguationError if necessary\u001b[39;00m\n\u001b[0;32m--> 231\u001b[0m page_info \u001b[38;5;241m=\u001b[39m \u001b[43mpage\u001b[49m\u001b[43m(\u001b[49m\u001b[43mtitle\u001b[49m\u001b[43m,\u001b[49m\u001b[43m \u001b[49m\u001b[43mauto_suggest\u001b[49m\u001b[38;5;241;43m=\u001b[39;49m\u001b[43mauto_suggest\u001b[49m\u001b[43m,\u001b[49m\u001b[43m \u001b[49m\u001b[43mredirect\u001b[49m\u001b[38;5;241;43m=\u001b[39;49m\u001b[43mredirect\u001b[49m\u001b[43m)\u001b[49m\n\u001b[1;32m    232\u001b[0m title \u001b[38;5;241m=\u001b[39m page_info\u001b[38;5;241m.\u001b[39mtitle\n\u001b[1;32m    233\u001b[0m pageid \u001b[38;5;241m=\u001b[39m page_info\u001b[38;5;241m.\u001b[39mpageid\n",
      "File \u001b[0;32m~/.local/lib/python3.10/site-packages/wikipedia/wikipedia.py:270\u001b[0m, in \u001b[0;36mpage\u001b[0;34m(title, pageid, auto_suggest, redirect, preload)\u001b[0m\n\u001b[1;32m    268\u001b[0m \u001b[38;5;28;01mif\u001b[39;00m title \u001b[38;5;129;01mis\u001b[39;00m \u001b[38;5;129;01mnot\u001b[39;00m \u001b[38;5;28;01mNone\u001b[39;00m:\n\u001b[1;32m    269\u001b[0m   \u001b[38;5;28;01mif\u001b[39;00m auto_suggest:\n\u001b[0;32m--> 270\u001b[0m     results, suggestion \u001b[38;5;241m=\u001b[39m \u001b[43msearch\u001b[49m\u001b[43m(\u001b[49m\u001b[43mtitle\u001b[49m\u001b[43m,\u001b[49m\u001b[43m \u001b[49m\u001b[43mresults\u001b[49m\u001b[38;5;241;43m=\u001b[39;49m\u001b[38;5;241;43m1\u001b[39;49m\u001b[43m,\u001b[49m\u001b[43m \u001b[49m\u001b[43msuggestion\u001b[49m\u001b[38;5;241;43m=\u001b[39;49m\u001b[38;5;28;43;01mTrue\u001b[39;49;00m\u001b[43m)\u001b[49m\n\u001b[1;32m    271\u001b[0m     \u001b[38;5;28;01mtry\u001b[39;00m:\n\u001b[1;32m    272\u001b[0m       title \u001b[38;5;241m=\u001b[39m suggestion \u001b[38;5;129;01mor\u001b[39;00m results[\u001b[38;5;241m0\u001b[39m]\n",
      "File \u001b[0;32m~/.local/lib/python3.10/site-packages/wikipedia/util.py:28\u001b[0m, in \u001b[0;36mcache.__call__\u001b[0;34m(self, *args, **kwargs)\u001b[0m\n\u001b[1;32m     26\u001b[0m   ret \u001b[38;5;241m=\u001b[39m \u001b[38;5;28mself\u001b[39m\u001b[38;5;241m.\u001b[39m_cache[key]\n\u001b[1;32m     27\u001b[0m \u001b[38;5;28;01melse\u001b[39;00m:\n\u001b[0;32m---> 28\u001b[0m   ret \u001b[38;5;241m=\u001b[39m \u001b[38;5;28mself\u001b[39m\u001b[38;5;241m.\u001b[39m_cache[key] \u001b[38;5;241m=\u001b[39m \u001b[38;5;28;43mself\u001b[39;49m\u001b[38;5;241;43m.\u001b[39;49m\u001b[43mfn\u001b[49m\u001b[43m(\u001b[49m\u001b[38;5;241;43m*\u001b[39;49m\u001b[43margs\u001b[49m\u001b[43m,\u001b[49m\u001b[43m \u001b[49m\u001b[38;5;241;43m*\u001b[39;49m\u001b[38;5;241;43m*\u001b[39;49m\u001b[43mkwargs\u001b[49m\u001b[43m)\u001b[49m\n\u001b[1;32m     30\u001b[0m \u001b[38;5;28;01mreturn\u001b[39;00m ret\n",
      "File \u001b[0;32m~/.local/lib/python3.10/site-packages/wikipedia/wikipedia.py:109\u001b[0m, in \u001b[0;36msearch\u001b[0;34m(query, results, suggestion)\u001b[0m\n\u001b[1;32m    107\u001b[0m     \u001b[38;5;28;01mraise\u001b[39;00m HTTPTimeoutError(query)\n\u001b[1;32m    108\u001b[0m   \u001b[38;5;28;01melse\u001b[39;00m:\n\u001b[0;32m--> 109\u001b[0m     \u001b[38;5;28;01mraise\u001b[39;00m WikipediaException(raw_results[\u001b[38;5;124m'\u001b[39m\u001b[38;5;124merror\u001b[39m\u001b[38;5;124m'\u001b[39m][\u001b[38;5;124m'\u001b[39m\u001b[38;5;124minfo\u001b[39m\u001b[38;5;124m'\u001b[39m])\n\u001b[1;32m    111\u001b[0m search_results \u001b[38;5;241m=\u001b[39m (d[\u001b[38;5;124m'\u001b[39m\u001b[38;5;124mtitle\u001b[39m\u001b[38;5;124m'\u001b[39m] \u001b[38;5;28;01mfor\u001b[39;00m d \u001b[38;5;129;01min\u001b[39;00m raw_results[\u001b[38;5;124m'\u001b[39m\u001b[38;5;124mquery\u001b[39m\u001b[38;5;124m'\u001b[39m][\u001b[38;5;124m'\u001b[39m\u001b[38;5;124msearch\u001b[39m\u001b[38;5;124m'\u001b[39m])\n\u001b[1;32m    113\u001b[0m \u001b[38;5;28;01mif\u001b[39;00m suggestion:\n",
      "\u001b[0;31mWikipediaException\u001b[0m: An unknown error occured: \"The \"srsearch\" parameter must be set.\". Please report it on GitHub!"
     ]
    }
   ],
   "source": [
    "if __name__=='__main__':\n",
    "    respond(\"Hi, I am Vampire personal Assistant\")\n",
    "          \n",
    "    while(1):\n",
    "        \n",
    "        respond(\"How can I help you?\")\n",
    "        text=talk().lower()\n",
    "        \n",
    "        if text==0:\n",
    "            continue\n",
    "            \n",
    "        if \"stop\" in str(text) or \"exit\" in str(text) or \"bye\" in str(text):\n",
    "            respond(\"Ok bye and take care\")\n",
    "            break\n",
    "            \n",
    "        if 'wikipedia' in text or 'search' in text:\n",
    "            respond('Searching Wikipedia')\n",
    "            #text =text.replace(\"wikipedia\", \"\")\n",
    "            results = wikipedia.summary(text, sentences=3)\n",
    "            respond(\"According to Wikipedia\")\n",
    "            print(results)\n",
    "            respond(results)\n",
    "                  \n",
    "        else: \n",
    "  \n",
    "            respond(\"Application not available\") "
   ]
  },
  {
   "cell_type": "markdown",
   "metadata": {},
   "source": [
    "## "
   ]
  },
  {
   "cell_type": "code",
   "execution_count": null,
   "metadata": {},
   "outputs": [],
   "source": []
  },
  {
   "cell_type": "code",
   "execution_count": null,
   "metadata": {},
   "outputs": [],
   "source": []
  },
  {
   "cell_type": "code",
   "execution_count": null,
   "metadata": {},
   "outputs": [],
   "source": []
  }
 ],
 "metadata": {
  "colab": {
   "include_colab_link": true,
   "name": "Minchu.ipynb",
   "provenance": []
  },
  "kernelspec": {
   "display_name": "Python 3 (ipykernel)",
   "language": "python",
   "name": "python3"
  },
  "language_info": {
   "codemirror_mode": {
    "name": "ipython",
    "version": 3
   },
   "file_extension": ".py",
   "mimetype": "text/x-python",
   "name": "python",
   "nbconvert_exporter": "python",
   "pygments_lexer": "ipython3",
   "version": "3.10.2"
  }
 },
 "nbformat": 4,
 "nbformat_minor": 1
}
