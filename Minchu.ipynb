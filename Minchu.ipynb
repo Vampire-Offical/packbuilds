{
 "cells": [
  {
   "cell_type": "markdown",
   "metadata": {
    "colab_type": "text",
    "id": "view-in-github"
   },
   "source": [
    "<a href=\"https://colab.research.google.com/github/RajiRai/Voice-Assistant/blob/main/Minchu.ipynb\" target=\"_parent\"><img src=\"https://colab.research.google.com/assets/colab-badge.svg\" alt=\"Open In Colab\"/></a>"
   ]
  },
  {
   "cell_type": "code",
   "execution_count": 57,
   "metadata": {
    "id": "q3LOOCXP6eiG"
   },
   "outputs": [],
   "source": [
    "# pip install SpeechRecognition\n",
    "# pip install wikipedia\n",
    "# pip install gTTS\n",
    "# pip install ecapture\n",
    "# pip install ipython\n",
    "# pip install pyinstaller\n",
    "# pip install selenium\n",
    "# pip install playsound"
   ]
  },
  {
   "cell_type": "code",
   "execution_count": 58,
   "metadata": {
    "id": "_8dPoK6NFTMY"
   },
   "outputs": [],
   "source": [
    "import speech_recognition as sr\n",
    "import datetime\n",
    "import wikipedia\n",
    "import webbrowser\n",
    "import time\n",
    "import requests\n",
    "import pyttsx3\n",
    "import subprocess #process various system commands like to log off or to restart your system\n",
    "#from ecapture import ecapture as ec #for capturing photos \n",
    "import playsound # to play saved mp3 file \n",
    "from gtts import gTTS # google text to speech \n",
    "import os # to save/open files \n",
    "import wolframalpha # to calculate strings into formula \n",
    "from selenium import webdriver # to control browser operations "
   ]
  },
  {
   "cell_type": "code",
   "execution_count": 59,
   "metadata": {
    "id": "6QzT_P1l6eiJ"
   },
   "outputs": [],
   "source": [
    "def talk():\n",
    "    input=sr.Recognizer()\n",
    "    with sr.Microphone() as source:\n",
    "        audio=input.listen(source)\n",
    "        data=\"\"\n",
    "        try:\n",
    "            data=input.recognize_google(audio)\n",
    "            print(\"Your question is, \" + data)\n",
    "            \n",
    "        except sr.UnknownValueError:\n",
    "            print(\"Sorry I did not hear your question, Please repeat again.\")\n",
    "        return data     \n"
   ]
  },
  {
   "cell_type": "code",
   "execution_count": 60,
   "metadata": {
    "id": "AhqfZjOj6eiM"
   },
   "outputs": [],
   "source": [
    "def respond(output):\n",
    "    num=0\n",
    "    print(output)\n",
    "    num += 1\n",
    "    response=gTTS(text=output, lang='en')\n",
    "    file = str(num)+\".mp3\"\n",
    "    response.save(file)\n",
    "    \n",
    "    playsound.playsound(file, True)  \n",
    "    os.remove(file)"
   ]
  },
  {
   "cell_type": "code",
   "execution_count": 61,
   "metadata": {
    "id": "5cdkDikC6eiR"
   },
   "outputs": [
    {
     "name": "stdout",
     "output_type": "stream",
     "text": [
      "Raghu please silent\n",
      "How can I help you?\n"
     ]
    }
   ],
   "source": [
    "if __name__=='__main__':\n",
    "    respond(\"Hi, I am Vampire personal Assistant\")\n",
    "          \n",
    "    while(1):\n",
    "        \n",
    "        respond(\"How can I help you?\")\n",
    "        text=talk().lower()\n",
    "        \n",
    "        if text==0:\n",
    "            continue\n",
    "            \n",
    "        if \"stop\" in str(text) or \"exit\" in str(text) or \"bye\" in str(text):\n",
    "            respond(\"Ok bye and take care\")\n",
    "            break\n",
    "            \n",
    "        if 'wikipedia' in text or 'search' in text:\n",
    "            respond('Searching Wikipedia')\n",
    "            #text =text.replace(\"wikipedia\", \"\")\n",
    "            results = wikipedia.summary(text, sentences=3)\n",
    "            respond(\"According to Wikipedia\")\n",
    "            print(results)\n",
    "            respond(results)\n",
    "                  \n",
    "        else: \n",
    "  \n",
    "            respond(\"Application not available\") "
   ]
  },
  {
   "cell_type": "markdown",
   "metadata": {},
   "source": [
    "## "
   ]
  },
  {
   "cell_type": "code",
   "execution_count": null,
   "metadata": {},
   "outputs": [],
   "source": []
  },
  {
   "cell_type": "code",
   "execution_count": null,
   "metadata": {},
   "outputs": [],
   "source": []
  },
  {
   "cell_type": "code",
   "execution_count": null,
   "metadata": {},
   "outputs": [],
   "source": []
  }
 ],
 "metadata": {
  "colab": {
   "include_colab_link": true,
   "name": "Minchu.ipynb",
   "provenance": []
  },
  "kernelspec": {
   "display_name": "Python 3 (ipykernel)",
   "language": "python",
   "name": "python3"
  },
  "language_info": {
   "codemirror_mode": {
    "name": "ipython",
    "version": 3
   },
   "file_extension": ".py",
   "mimetype": "text/x-python",
   "name": "python",
   "nbconvert_exporter": "python",
   "pygments_lexer": "ipython3",
   "version": "3.10.2"
  }
 },
 "nbformat": 4,
 "nbformat_minor": 1
}
